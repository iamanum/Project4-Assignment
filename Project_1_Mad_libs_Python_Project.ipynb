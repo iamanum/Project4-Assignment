{
  "nbformat": 4,
  "nbformat_minor": 0,
  "metadata": {
    "colab": {
      "provenance": [],
      "authorship_tag": "ABX9TyM9Koqx+n2PsP422Y2qPTcd",
      "include_colab_link": true
    },
    "kernelspec": {
      "name": "python3",
      "display_name": "Python 3"
    },
    "language_info": {
      "name": "python"
    }
  },
  "cells": [
    {
      "cell_type": "markdown",
      "metadata": {
        "id": "view-in-github",
        "colab_type": "text"
      },
      "source": [
        "<a href=\"https://colab.research.google.com/github/iamanum/Project4-Assignment/blob/main/Project_1_Mad_libs_Python_Project.ipynb\" target=\"_parent\"><img src=\"https://colab.research.google.com/assets/colab-badge.svg\" alt=\"Open In Colab\"/></a>"
      ]
    },
    {
      "cell_type": "code",
      "execution_count": null,
      "metadata": {
        "id": "Jqj9MpR0MYZw"
      },
      "outputs": [],
      "source": [
        "# Mad Libs Python Project\n",
        "\n",
        "# Function to get input from the user\n",
        "def get_input():\n",
        "    place = input(\"Enter a place: \")\n",
        "    adjective1 = input(\"Enter an adjective: \")\n",
        "    animal = input(\"Enter an animal: \")\n",
        "    adjective2 = input(\"Enter another adjective: \")\n",
        "    verb = input(\"Enter a verb: \")\n",
        "    emotion = input(\"Enter an emotion: \")\n",
        "\n",
        "    # Create the Mad Libs story\n",
        "    story = f\"Today, I went to the {place} and saw a {adjective1} {animal}. It was so {adjective2}! I decided to {verb} and then I felt {emotion}.\"\n",
        "\n",
        "    return story\n",
        "\n",
        "# Get the story and print it\n",
        "story = get_input()\n",
        "print(\"\\nHere is your Mad Libs story:\\n\")\n",
        "print(story)\n"
      ]
    }
  ]
}