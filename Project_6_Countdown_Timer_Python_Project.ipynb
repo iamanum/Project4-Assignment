{
  "nbformat": 4,
  "nbformat_minor": 0,
  "metadata": {
    "colab": {
      "provenance": [],
      "authorship_tag": "ABX9TyMVgNi/c+WI+jv402rtG6bR",
      "include_colab_link": true
    },
    "kernelspec": {
      "name": "python3",
      "display_name": "Python 3"
    },
    "language_info": {
      "name": "python"
    }
  },
  "cells": [
    {
      "cell_type": "markdown",
      "metadata": {
        "id": "view-in-github",
        "colab_type": "text"
      },
      "source": [
        "<a href=\"https://colab.research.google.com/github/iamanum/Project4-Assignment/blob/main/Project_6_Countdown_Timer_Python_Project.ipynb\" target=\"_parent\"><img src=\"https://colab.research.google.com/assets/colab-badge.svg\" alt=\"Open In Colab\"/></a>"
      ]
    },
    {
      "cell_type": "code",
      "execution_count": null,
      "metadata": {
        "id": "kZCkE63oVgL6"
      },
      "outputs": [],
      "source": [
        "import time\n",
        "\n",
        "def countdown_timer(seconds):\n",
        "    while seconds:\n",
        "        mins, secs = divmod(seconds, 60)\n",
        "        timer_display = '{:02d}:{:02d}'.format(mins, secs)\n",
        "        print(timer_display, end='\\r')\n",
        "        time.sleep(1)\n",
        "        seconds -= 1\n",
        "    print(\"Time's up! ⏰\")\n",
        "\n",
        "# Input from user\n",
        "try:\n",
        "    total_seconds = int(input(\"Enter the countdown time in seconds: \"))\n",
        "    print(f\"Countdown started for {total_seconds} seconds...\")\n",
        "    countdown_timer(total_seconds)\n",
        "except ValueError:\n",
        "    print(\"Please enter a valid number.\")\n"
      ]
    }
  ]
}