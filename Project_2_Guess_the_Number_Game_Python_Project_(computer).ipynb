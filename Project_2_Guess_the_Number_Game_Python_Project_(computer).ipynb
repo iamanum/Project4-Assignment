{
  "nbformat": 4,
  "nbformat_minor": 0,
  "metadata": {
    "colab": {
      "provenance": [],
      "authorship_tag": "ABX9TyMZI05yhfL9LrdR7Nct6AvU",
      "include_colab_link": true
    },
    "kernelspec": {
      "name": "python3",
      "display_name": "Python 3"
    },
    "language_info": {
      "name": "python"
    }
  },
  "cells": [
    {
      "cell_type": "markdown",
      "metadata": {
        "id": "view-in-github",
        "colab_type": "text"
      },
      "source": [
        "<a href=\"https://colab.research.google.com/github/iamanum/Project4-Assignment/blob/main/Project_2_Guess_the_Number_Game_Python_Project_(computer).ipynb\" target=\"_parent\"><img src=\"https://colab.research.google.com/assets/colab-badge.svg\" alt=\"Open In Colab\"/></a>"
      ]
    },
    {
      "cell_type": "code",
      "execution_count": null,
      "metadata": {
        "id": "6cAfQ-pmNX8d"
      },
      "outputs": [],
      "source": [
        "import random\n",
        "\n",
        "# Function for the Guess the Number Game\n",
        "def guess_the_number():\n",
        "    print(\"Welcome to Guess the Number!\")\n",
        "\n",
        "    # The computer selects a random number between 1 and 100\n",
        "    number_to_guess = random.randint(1, 100)\n",
        "\n",
        "    # Variable to track the number of attempts\n",
        "    attempts = 0\n",
        "\n",
        "    while True:\n",
        "        try:\n",
        "            # Get the player's guess\n",
        "            player_guess = int(input(\"Guess a number between 1 and 100: \"))\n",
        "            attempts += 1\n",
        "\n",
        "            # Check if the guess is too high, too low, or correct\n",
        "            if player_guess < number_to_guess:\n",
        "                print(\"Too low! Try again.\")\n",
        "            elif player_guess > number_to_guess:\n",
        "                print(\"Too high! Try again.\")\n",
        "            else:\n",
        "                print(f\"Congratulations! You've guessed the number {number_to_guess} in {attempts} attempts.\")\n",
        "                break  # Exit the loop if the guess is correct\n",
        "        except ValueError:\n",
        "            print(\"Please enter a valid integer.\")\n",
        "\n",
        "# Run the game\n",
        "guess_the_number()\n"
      ]
    }
  ]
}