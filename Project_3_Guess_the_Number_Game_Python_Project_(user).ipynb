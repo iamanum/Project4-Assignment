{
  "nbformat": 4,
  "nbformat_minor": 0,
  "metadata": {
    "colab": {
      "provenance": [],
      "authorship_tag": "ABX9TyOg2/OpOe2Cg+NQLb7ezF6W",
      "include_colab_link": true
    },
    "kernelspec": {
      "name": "python3",
      "display_name": "Python 3"
    },
    "language_info": {
      "name": "python"
    }
  },
  "cells": [
    {
      "cell_type": "markdown",
      "metadata": {
        "id": "view-in-github",
        "colab_type": "text"
      },
      "source": [
        "<a href=\"https://colab.research.google.com/github/iamanum/Project4-Assignment/blob/main/Project_3_Guess_the_Number_Game_Python_Project_(user).ipynb\" target=\"_parent\"><img src=\"https://colab.research.google.com/assets/colab-badge.svg\" alt=\"Open In Colab\"/></a>"
      ]
    },
    {
      "cell_type": "code",
      "execution_count": null,
      "metadata": {
        "id": "nLWrXBWsNxyf"
      },
      "outputs": [],
      "source": [
        "def guess_the_number_user():\n",
        "    print(\"Welcome to 'Guess the Number' game!\")\n",
        "    print(\"Please think of a number between 1 and 100 and I'll try to guess it.\")\n",
        "\n",
        "    # Set the initial range for the number\n",
        "    low = 1\n",
        "    high = 100\n",
        "    attempts = 0\n",
        "\n",
        "    while True:\n",
        "        # The computer makes a guess by picking the middle value of the range\n",
        "        guess = (low + high) // 2\n",
        "        attempts += 1\n",
        "        print(f\"Attempt {attempts}: Is your number {guess}?\")\n",
        "\n",
        "        # Get the user's feedback\n",
        "        feedback = input(\"Enter 'h' if my guess is too high, 'l' if it's too low, or 'c' if I guessed correctly: \").lower()\n",
        "\n",
        "        if feedback == 'h':\n",
        "            high = guess - 1  # The number is lower than the guess\n",
        "        elif feedback == 'l':\n",
        "            low = guess + 1  # The number is higher than the guess\n",
        "        elif feedback == 'c':\n",
        "            print(f\"Yay! I guessed your number {guess} correctly in {attempts} attempts!\")\n",
        "            break  # Exit the loop when the guess is correct\n",
        "        else:\n",
        "            print(\"Invalid input! Please enter 'h', 'l', or 'c'.\")\n",
        "\n",
        "# Start the game\n",
        "guess_the_number_user()\n"
      ]
    }
  ]
}