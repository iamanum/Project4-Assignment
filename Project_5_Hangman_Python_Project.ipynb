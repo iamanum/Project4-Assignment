{
  "nbformat": 4,
  "nbformat_minor": 0,
  "metadata": {
    "colab": {
      "provenance": [],
      "authorship_tag": "ABX9TyNc0oME6v4gqvba3B/GvSKH",
      "include_colab_link": true
    },
    "kernelspec": {
      "name": "python3",
      "display_name": "Python 3"
    },
    "language_info": {
      "name": "python"
    }
  },
  "cells": [
    {
      "cell_type": "markdown",
      "metadata": {
        "id": "view-in-github",
        "colab_type": "text"
      },
      "source": [
        "<a href=\"https://colab.research.google.com/github/iamanum/Project4-Assignment/blob/main/Project_5_Hangman_Python_Project.ipynb\" target=\"_parent\"><img src=\"https://colab.research.google.com/assets/colab-badge.svg\" alt=\"Open In Colab\"/></a>"
      ]
    },
    {
      "cell_type": "code",
      "execution_count": 1,
      "metadata": {
        "colab": {
          "base_uri": "https://localhost:8080/"
        },
        "id": "JvfL75_7UjQJ",
        "outputId": "fd33e6b7-8aae-49fb-ecf3-304f4c1bf602"
      },
      "outputs": [
        {
          "output_type": "stream",
          "name": "stdout",
          "text": [
            "Welcome to Hangman!\n",
            "\n",
            "Current word: ________\n",
            "Attempts left: 6\n",
            "Guess a letter: apple\n",
            "Incorrect guess! 'apple' is not in the word.\n",
            "\n",
            "Current word: ________\n",
            "Attempts left: 5\n",
            "Guess a letter: green\n",
            "Incorrect guess! 'green' is not in the word.\n",
            "\n",
            "Current word: ________\n",
            "Attempts left: 4\n",
            "Guess a letter: friend\n",
            "Incorrect guess! 'friend' is not in the word.\n",
            "\n",
            "Current word: ________\n",
            "Attempts left: 3\n",
            "Guess a letter: acddcd\n",
            "Incorrect guess! 'acddcd' is not in the word.\n",
            "\n",
            "Current word: ________\n",
            "Attempts left: 2\n",
            "Guess a letter: dasvasdv\n",
            "Incorrect guess! 'dasvasdv' is not in the word.\n",
            "\n",
            "Current word: ________\n",
            "Attempts left: 1\n",
            "Guess a letter: dsvvdv\n",
            "Incorrect guess! 'dsvvdv' is not in the word.\n",
            "\n",
            "Game over! The word was: variable\n"
          ]
        }
      ],
      "source": [
        "import random\n",
        "\n",
        "# List of possible words for the game\n",
        "word_list = ['python', 'hangman', 'programming', 'developer', 'colab', 'function', 'variable']\n",
        "\n",
        "# Function to choose a random word\n",
        "def choose_word():\n",
        "    return random.choice(word_list)\n",
        "\n",
        "# Function to display the current state of the word\n",
        "def display_word(word, guessed_letters):\n",
        "    displayed = ''.join([letter if letter in guessed_letters else '_' for letter in word])\n",
        "    return displayed\n",
        "\n",
        "# Function to play the game\n",
        "def play_hangman():\n",
        "    word = choose_word()\n",
        "    guessed_letters = []\n",
        "    attempts = 6  # Number of attempts before game over\n",
        "    print(\"Welcome to Hangman!\")\n",
        "\n",
        "    while attempts > 0:\n",
        "        print(f\"\\nCurrent word: {display_word(word, guessed_letters)}\")\n",
        "        print(f\"Attempts left: {attempts}\")\n",
        "\n",
        "        # Get the guessed letter\n",
        "        guess = input(\"Guess a letter: \").lower()\n",
        "\n",
        "        if guess in guessed_letters:\n",
        "            print(\"You've already guessed that letter. Try again.\")\n",
        "            continue\n",
        "\n",
        "        if guess not in word:\n",
        "            attempts -= 1\n",
        "            print(f\"Incorrect guess! '{guess}' is not in the word.\")\n",
        "        else:\n",
        "            guessed_letters.append(guess)\n",
        "            print(f\"Good guess! '{guess}' is in the word.\")\n",
        "\n",
        "        # Check if the player has guessed all the letters\n",
        "        if all(letter in guessed_letters for letter in word):\n",
        "            print(f\"\\nCongratulations! You've guessed the word: {word}\")\n",
        "            break\n",
        "\n",
        "    if attempts == 0:\n",
        "        print(f\"\\nGame over! The word was: {word}\")\n",
        "\n",
        "# Run the game\n",
        "play_hangman()\n"
      ]
    }
  ]
}